{
 "cells": [
  {
   "cell_type": "markdown",
   "metadata": {},
   "source": [
    "# Final Project Title\n",
    "**Jessica Manko  \n",
    "University of Colorado Denver  \n",
    "GEOG5990 Spring 2020**  \n"
   ]
  },
  {
   "cell_type": "markdown",
   "metadata": {},
   "source": [
    "## Introduction\n",
    "The Severe Weather Data Inventory (SWDI) is an integrated database of severe weather records for the United States."
   ]
  },
  {
   "cell_type": "markdown",
   "metadata": {},
   "source": [
    "## Data Exploration\n",
    "This data is a product of NOAA's National Centers for Environmental Information (NCEI). This dataset covers hail detections from 2015. This includes the probability of a weather event as well as the size and severity of hail. This helps understand potential damage to property and injury to people. Records are event-level records. Individual storm cells with a high probability of yielding hail are included in this dataset -- a total of n = 10,824,080.\n",
    "\n",
    "#### Column Definitions and Units  \n",
    "   Hail Dataset:    \n",
    "   WSR_ID  - \"NEXRAD or TDWR SITE ID\"  \n",
    "   CELL_ID - \"CELL ID UNIQUE TO RADAR SITE\"  \n",
    "   PROB    - \"PROBABILITY OF HAIL [PERCENT]\"  \n",
    "   SEVPROB - \"PROB. OF SEVERE HAIL [PERCENT]\"  \n",
    "   MAXSIZE - \"MAX SIZE [IN]\"  \n",
    "   \n",
    "•\tProvide an overview of your data - e.g., number of observations, number of features, data properties (int, float, string)  \n",
    "•\t(if necessary) Pre-process the data – e.g., data cleaning, replacing missing values, remove duplicated content  \n",
    "•\tExplore the data by providing descriptive and summary statistics  \n",
    "•\tCreate visualization  \n",
    "•\tDiscuss any pattern you find  "
   ]
  },
  {
   "cell_type": "code",
   "execution_count": 1,
   "metadata": {},
   "outputs": [],
   "source": [
    "import pandas as pd\n",
    "import numpy as np\n",
    "\n",
    "storms = pd.read_csv('hail-2015.csv')"
   ]
  },
  {
   "cell_type": "code",
   "execution_count": 2,
   "metadata": {},
   "outputs": [],
   "source": [
    "#Subset first 20000 values of dataset since it is so large\n",
    "storms = storms[:20000]"
   ]
  },
  {
   "cell_type": "code",
   "execution_count": 19,
   "metadata": {},
   "outputs": [
    {
     "name": "stdout",
     "output_type": "stream",
     "text": [
      "Index(['X.ZTIME', 'LON', 'LAT', 'WSR_ID', 'CELL_ID', 'RANGE', 'AZIMUTH',\n",
      "       'SEVPROB', 'PROB', 'MAXSIZE'],\n",
      "      dtype='object')\n",
      "<bound method NDFrame.head of             X.ZTIME        LON       LAT WSR_ID CELL_ID  RANGE  AZIMUTH  \\\n",
      "0      2.015010e+13  -97.16003  32.66308   KDFW      C0     27      207   \n",
      "1      2.015010e+13  -97.01849  32.57796   KDAL      E0     21      187   \n",
      "2      2.015010e+13  -97.01735  32.58810   KDFW      J0     29      190   \n",
      "3      2.015010e+13  -96.99553  32.59287   KDAL      E0     20      184   \n",
      "4      2.015010e+13  -96.96180  32.62550   KDAL      E0     18      179   \n",
      "5      2.015010e+13  -96.93591  32.63114   KDFW      J0     26      182   \n",
      "6      2.015010e+13  -97.71510  32.93183   KDFW      P0     41      259   \n",
      "7      2.015010e+13  -97.06445  32.14544   KDAL      M0     47      186   \n",
      "8      2.015010e+13  -97.04842  32.14414   KDAL      M0     47      185   \n",
      "9      2.015010e+13  -96.99884  32.17503   KDAL      M0     45      182   \n",
      "10     2.015010e+13 -101.38012  27.87227   KDFX      F0    102      215   \n",
      "11     2.015010e+13  -97.01425  32.17560   KDAL      P0     45      183   \n",
      "12     2.015010e+13 -101.29009  27.93928   KDFX      G0     96      214   \n",
      "13     2.015010e+13 -101.24342  27.95221   KDFX      G0     94      213   \n",
      "14     2.015010e+13 -101.22318  27.98039   KDFX      G0     92      213   \n",
      "15     2.015010e+13  -96.93174  32.39720   KDFW      G1     40      181   \n",
      "16     2.015010e+13  -96.90460  32.41389   KDFW      G1     39      179   \n",
      "17     2.015010e+13  -96.83773  32.41734   KDFW      G1     39      174   \n",
      "18     2.015010e+13 -101.20644  28.25694   KDFX      K0     78      219   \n",
      "19     2.015010e+13 -101.12856  28.06583   KDFX      O0     85      212   \n",
      "20     2.015010e+13  -97.69153  33.07397   KDFW      N1     39      271   \n",
      "21     2.015010e+13 -101.61451  28.04027   KDFX      P0    102      224   \n",
      "22     2.015010e+13 -101.10882  28.09430   KDFX      O0     83      212   \n",
      "23     2.015010e+13 -101.06625  28.11056   KDFX      O0     81      211   \n",
      "24     2.015010e+13 -101.58865  28.06458   KDFX      P0    100      224   \n",
      "25     2.015010e+13 -101.03745  28.15371   KDFX      O0     78      211   \n",
      "26     2.015010e+13 -101.57572  28.07673   KDFX      P0     99      224   \n",
      "27     2.015010e+13 -100.99660  28.17133   KDFX      O0     76      210   \n",
      "28     2.015010e+13 -101.53689  28.11317   KDFX      P0     96      224   \n",
      "29     2.015010e+13 -101.49804  28.14960   KDFX      P0     93      224   \n",
      "...             ...        ...       ...    ...     ...    ...      ...   \n",
      "19940  2.015010e+13  -85.27971  31.18584   KMXX      O2     85      162   \n",
      "19941  2.015010e+13  -85.35430  30.90883   KMXX      I0    100      167   \n",
      "19942  2.015010e+13  -85.79000  30.46570   KMXX      N6    124      180   \n",
      "19943  2.015010e+13  -82.78111  34.01031   KCAE      L9     83      273   \n",
      "19944  2.015010e+13  -75.97767  36.40436   KMHX      O6    107       24   \n",
      "19946  2.015010e+13  -85.33005  30.93717   KEOX      Y3     32      168   \n",
      "19947  2.015010e+13  -85.20708  31.22768   KEOX      I6     19      137   \n",
      "19948  2.015010e+13  -86.43655  29.62419   KEOX      B5    121      205   \n",
      "19949  2.015010e+13  -85.77805  30.49626   KEOX      X1     60      196   \n",
      "19951  2.015010e+13  -82.80283  33.99996   KJGX      P9     84       19   \n",
      "19956  2.015010e+13  -85.16908  31.93245   KBMX      U8    110      132   \n",
      "19957  2.015010e+13  -84.69765  32.87784   KBMX      A4    106       99   \n",
      "19958  2.015010e+13  -84.72014  32.65799   KBMX      Q4    108      106   \n",
      "19959  2.015010e+13  -85.26096  31.21259   KVAX      D0    118      280   \n",
      "19960  2.015010e+13  -82.78401  33.95949   KGSP      O9     62      207   \n",
      "19962  2.015010e+13  -86.36599  29.69956   KTLH      G4    114      249   \n",
      "19963  2.015010e+13  -85.77063  30.49924   KTLH      M3     75      275   \n",
      "19964  2.015010e+13  -86.47573  29.50478   KTLH      Q5    124      245   \n",
      "19971  2.015010e+13  -88.85015  28.48582   KLIX      H7    122      155   \n",
      "19973  2.015010e+13  -82.77071  34.01559   KFFC      N5     98       66   \n",
      "19983  2.015010e+13  -86.62628  29.20269   KMOB      R0    122      136   \n",
      "19984  2.015010e+13  -86.51915  29.44794   KMOB      F1    116      129   \n",
      "19985  2.015010e+13  -86.36671  29.72155   KMOB      Q1    113      120   \n",
      "19986  2.015010e+13  -86.58160  29.26405   KMOB      E7    121      134   \n",
      "19989  2.015010e+13  -85.74186  30.50502   KEVX      G3     10      111   \n",
      "19990  2.015010e+13  -86.65418  29.18508   KEVX      X6     91      205   \n",
      "19992  2.015010e+13  -85.09721  31.58620   KMXX      H8     67      148   \n",
      "19993  2.015010e+13  -85.21179  31.24155   KMXX      O2     83      159   \n",
      "19994  2.015010e+13  -85.31679  30.89928   KMXX      I0    101      166   \n",
      "19995  2.015010e+13  -85.74894  30.49943   KMXX      N6    122      179   \n",
      "\n",
      "       SEVPROB  PROB  MAXSIZE  \n",
      "0            0    10      0.5  \n",
      "1            0    50      0.5  \n",
      "2            0    20      0.5  \n",
      "3            0    40      0.5  \n",
      "4            0    30      0.5  \n",
      "5            0    10      0.5  \n",
      "6            0    10      0.5  \n",
      "7            0    30      0.5  \n",
      "8            0    30      0.5  \n",
      "9            0    10      0.5  \n",
      "10           0    30      0.5  \n",
      "11           0    10      0.5  \n",
      "12           0    50      0.5  \n",
      "13           0    80      0.5  \n",
      "14           0    80      0.5  \n",
      "15           0    40      0.5  \n",
      "16           0    40      0.5  \n",
      "17           0    40      0.5  \n",
      "18           0    10      0.5  \n",
      "19           0    60      0.5  \n",
      "20           0    40      0.5  \n",
      "21           0    10      0.5  \n",
      "22           0    60      0.5  \n",
      "23           0    50      0.5  \n",
      "24           0    80      0.5  \n",
      "25           0    20      0.5  \n",
      "26           0    90      0.5  \n",
      "27           0    10      0.5  \n",
      "28           0    10      0.5  \n",
      "29           0    80      0.5  \n",
      "...        ...   ...      ...  \n",
      "19940        0    40      0.5  \n",
      "19941       10    70      0.5  \n",
      "19942        0    80      0.5  \n",
      "19943        0    10      0.5  \n",
      "19944        0    20      0.5  \n",
      "19946        0    10      0.5  \n",
      "19947        0    30      0.5  \n",
      "19948        0    40      0.5  \n",
      "19949        0    60      0.5  \n",
      "19951        0    10      0.5  \n",
      "19956        0    40      0.5  \n",
      "19957        0    50      0.5  \n",
      "19958        0    60      0.5  \n",
      "19959        0    30      0.5  \n",
      "19960        0    20      0.5  \n",
      "19962        0    40      0.5  \n",
      "19963        0    60      0.5  \n",
      "19964        0    60      0.5  \n",
      "19971        0    20      0.5  \n",
      "19973        0    50      0.5  \n",
      "19983        0    60      0.5  \n",
      "19984        0    70      0.5  \n",
      "19985        0    70      0.5  \n",
      "19986        0    70      0.5  \n",
      "19989        0    20      0.5  \n",
      "19990        0    40      0.5  \n",
      "19992        0    10      0.5  \n",
      "19993        0    30      0.5  \n",
      "19994        0    50      0.5  \n",
      "19995        0    80      0.5  \n",
      "\n",
      "[15346 rows x 10 columns]>\n",
      "X.ZTIME    float64\n",
      "LON        float64\n",
      "LAT        float64\n",
      "WSR_ID      object\n",
      "CELL_ID     object\n",
      "RANGE        int64\n",
      "AZIMUTH      int64\n",
      "SEVPROB      int64\n",
      "PROB         int64\n",
      "MAXSIZE    float64\n",
      "dtype: object\n",
      "10\n",
      "15346\n"
     ]
    }
   ],
   "source": [
    "#Overview of original data\n",
    "#Columns within dataset\n",
    "print(storms.columns)\n",
    "#Print first five rows \n",
    "print(storms.head)\n",
    "#Data properties \n",
    "print(storms.dtypes)\n",
    "#Number of features\n",
    "print(len(storms.columns))\n",
    "#Number of observations \n",
    "print(len(storms))"
   ]
  },
  {
   "cell_type": "code",
   "execution_count": 10,
   "metadata": {},
   "outputs": [
    {
     "name": "stdout",
     "output_type": "stream",
     "text": [
      "15346\n"
     ]
    }
   ],
   "source": [
    "#Clean up data; remove null values\n",
    "# Get values of indexes for which values are null \n",
    "null_values = storms[ storms['MAXSIZE'] == -999 ].index\n",
    " \n",
    "# Delete these row indexes from dataFrame\n",
    "storms.drop(null_values , inplace=True)\n",
    "#Now we have removed null values from data\n",
    "print(len(storms))"
   ]
  },
  {
   "cell_type": "code",
   "execution_count": 15,
   "metadata": {},
   "outputs": [
    {
     "name": "stdout",
     "output_type": "stream",
     "text": [
      "            X.ZTIME           LON           LAT         RANGE       AZIMUTH  \\\n",
      "count  1.534600e+04  15346.000000  15346.000000  15346.000000  15346.000000   \n",
      "mean   2.015010e+13    -97.145676     30.704270     79.890656    195.286850   \n",
      "std    6.136512e+05     23.389396      4.785716     32.558809     96.060911   \n",
      "min    2.015010e+13   -159.800610     17.035290      4.000000      0.000000   \n",
      "25%    2.015010e+13    -94.601658     29.460362     56.000000    119.000000   \n",
      "50%    2.015010e+13    -88.326175     31.251715     87.000000    198.000000   \n",
      "75%    2.015010e+13    -86.476765     32.860743    108.000000    277.000000   \n",
      "max    2.015010e+13    -67.862520     44.791510    124.000000    360.000000   \n",
      "\n",
      "            SEVPROB          PROB       MAXSIZE  \n",
      "count  15346.000000  15346.000000  15346.000000  \n",
      "mean       1.058256     35.438551      0.505409  \n",
      "std        4.781399     21.925700      0.040202  \n",
      "min        0.000000     10.000000      0.500000  \n",
      "25%        0.000000     20.000000      0.500000  \n",
      "50%        0.000000     30.000000      0.500000  \n",
      "75%        0.000000     50.000000      0.500000  \n",
      "max       60.000000    100.000000      1.250000  \n"
     ]
    }
   ],
   "source": [
    "#Descriptive Statistics\n",
    "print(storms.describe())"
   ]
  },
  {
   "cell_type": "code",
   "execution_count": null,
   "metadata": {},
   "outputs": [],
   "source": [
    "#Create visualization\n"
   ]
  },
  {
   "cell_type": "code",
   "execution_count": null,
   "metadata": {},
   "outputs": [],
   "source": [
    "#Discuss patterns "
   ]
  },
  {
   "cell_type": "markdown",
   "metadata": {},
   "source": [
    "## Methods: Application of a Data Science/Machine-learning/Deep Learning Model "
   ]
  },
  {
   "cell_type": "markdown",
   "metadata": {},
   "source": [
    "## Results: A Comprehensive Summary Report"
   ]
  },
  {
   "cell_type": "code",
   "execution_count": null,
   "metadata": {},
   "outputs": [],
   "source": []
  }
 ],
 "metadata": {
  "kernelspec": {
   "display_name": "Python 3",
   "language": "python",
   "name": "python3"
  },
  "language_info": {
   "codemirror_mode": {
    "name": "ipython",
    "version": 3
   },
   "file_extension": ".py",
   "mimetype": "text/x-python",
   "name": "python",
   "nbconvert_exporter": "python",
   "pygments_lexer": "ipython3",
   "version": "3.7.3"
  }
 },
 "nbformat": 4,
 "nbformat_minor": 2
}
